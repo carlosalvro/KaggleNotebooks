{
 "cells": [
  {
   "cell_type": "markdown",
   "id": "aa78d4b3",
   "metadata": {
    "papermill": {
     "duration": 0.014296,
     "end_time": "2024-02-01T05:41:36.302633",
     "exception": false,
     "start_time": "2024-02-01T05:41:36.288337",
     "status": "completed"
    },
    "tags": []
   },
   "source": [
    "In my other notebook I made an analisys about the features you can check in the next [Bank Churn Analisys](https://www.kaggle.com/code/carlosalvro/bank-churn-analisys) \n",
    "\n",
    "The purpose of this notebook is compare the score of the model with different situations.\n",
    "- Original Features of the dataset vs the new features that we can infer. \n",
    "- Applying one hot encoding vs ordinal encoder.\n",
    "- Scaling the data vs not.\n",
    "\n",
    "Using the next models.\n",
    "- GradientBoostingClassifier\n",
    "- LightGBMClassifier\n",
    "- CatBoostClassifier\n",
    "Here I will compare the 8 combinations\n",
    "\n",
    "1. Original Features with one hot encoding and without scaling (OrHotNS)\n",
    "2. Original Features with one hot encoding and scaling (OrHotS)\n",
    "3. Original Features with ordinal encoder and without scaling  (OrEnNS)\n",
    "4. Original Features with ordinal encoder and scaling  (OrEnS)\n",
    "5. New Features with one hot encoding and without scaling (NeHotNS)\n",
    "6. New Features with one hot encoding and scaling (NeHotS)\n",
    "7. New Features with ordinal encoder and without scaling  (NeEnNS)\n",
    "8. New Features with ordinal encoder and scaling  (NeEnS)\n",
    "\n",
    "If you consider this notebook help you please upvote 🔺\n",
    "\n",
    "**@CarlosAlvro**"
   ]
  },
  {
   "cell_type": "code",
   "execution_count": 1,
   "id": "cdedb835",
   "metadata": {
    "_cell_guid": "b1076dfc-b9ad-4769-8c92-a6c4dae69d19",
    "_uuid": "8f2839f25d086af736a60e9eeb907d3b93b6e0e5",
    "execution": {
     "iopub.execute_input": "2024-02-01T05:41:36.332924Z",
     "iopub.status.busy": "2024-02-01T05:41:36.332495Z",
     "iopub.status.idle": "2024-02-01T05:41:41.536119Z",
     "shell.execute_reply": "2024-02-01T05:41:41.535005Z"
    },
    "papermill": {
     "duration": 5.222762,
     "end_time": "2024-02-01T05:41:41.539410",
     "exception": false,
     "start_time": "2024-02-01T05:41:36.316648",
     "status": "completed"
    },
    "tags": []
   },
   "outputs": [],
   "source": [
    "import numpy as np\n",
    "import pandas as pd\n",
    "\n",
    "import matplotlib.pyplot as plt\n",
    "import seaborn as sns\n",
    "\n",
    "from sklearn.preprocessing import StandardScaler, OrdinalEncoder\n",
    "from sklearn.model_selection import train_test_split\n",
    "from sklearn.ensemble import GradientBoostingClassifier\n",
    "from sklearn.metrics import roc_auc_score\n",
    "from lightgbm import LGBMClassifier\n",
    "from catboost import CatBoostClassifier"
   ]
  },
  {
   "cell_type": "code",
   "execution_count": 2,
   "id": "bae04ad4",
   "metadata": {
    "execution": {
     "iopub.execute_input": "2024-02-01T05:41:41.570083Z",
     "iopub.status.busy": "2024-02-01T05:41:41.569660Z",
     "iopub.status.idle": "2024-02-01T05:41:42.079162Z",
     "shell.execute_reply": "2024-02-01T05:41:42.078061Z"
    },
    "papermill": {
     "duration": 0.529842,
     "end_time": "2024-02-01T05:41:42.084027",
     "exception": false,
     "start_time": "2024-02-01T05:41:41.554185",
     "status": "completed"
    },
    "tags": []
   },
   "outputs": [],
   "source": [
    "train = pd.read_csv(\"/kaggle/input/playground-series-s4e1/train.csv\")\n",
    "train[['Age','HasCrCard','IsActiveMember']] = train[['Age','HasCrCard','IsActiveMember']].astype(int)"
   ]
  },
  {
   "cell_type": "code",
   "execution_count": 3,
   "id": "e4564411",
   "metadata": {
    "execution": {
     "iopub.execute_input": "2024-02-01T05:41:42.125413Z",
     "iopub.status.busy": "2024-02-01T05:41:42.124853Z",
     "iopub.status.idle": "2024-02-01T05:41:42.135838Z",
     "shell.execute_reply": "2024-02-01T05:41:42.134796Z"
    },
    "papermill": {
     "duration": 0.036571,
     "end_time": "2024-02-01T05:41:42.138859",
     "exception": false,
     "start_time": "2024-02-01T05:41:42.102288",
     "status": "completed"
    },
    "tags": []
   },
   "outputs": [],
   "source": [
    "models = {\n",
    "    'GBC': GradientBoostingClassifier(n_estimators=100, validation_fraction=0.15),\n",
    "    'LGBM': LGBMClassifier(),\n",
    "    'CatBoost': CatBoostClassifier(silent=True),\n",
    "}"
   ]
  },
  {
   "cell_type": "code",
   "execution_count": 4,
   "id": "3bc7edd9",
   "metadata": {
    "execution": {
     "iopub.execute_input": "2024-02-01T05:41:42.172413Z",
     "iopub.status.busy": "2024-02-01T05:41:42.171654Z",
     "iopub.status.idle": "2024-02-01T05:41:42.189113Z",
     "shell.execute_reply": "2024-02-01T05:41:42.187670Z"
    },
    "papermill": {
     "duration": 0.03838,
     "end_time": "2024-02-01T05:41:42.192470",
     "exception": false,
     "start_time": "2024-02-01T05:41:42.154090",
     "status": "completed"
    },
    "tags": []
   },
   "outputs": [],
   "source": [
    "X = train.drop(['id','CustomerId', 'Surname', 'Exited'], axis=1)\n",
    "y = train['Exited']"
   ]
  },
  {
   "cell_type": "code",
   "execution_count": 5,
   "id": "bf23b46b",
   "metadata": {
    "execution": {
     "iopub.execute_input": "2024-02-01T05:41:42.227821Z",
     "iopub.status.busy": "2024-02-01T05:41:42.226455Z",
     "iopub.status.idle": "2024-02-01T05:41:42.240873Z",
     "shell.execute_reply": "2024-02-01T05:41:42.239106Z"
    },
    "papermill": {
     "duration": 0.033395,
     "end_time": "2024-02-01T05:41:42.244170",
     "exception": false,
     "start_time": "2024-02-01T05:41:42.210775",
     "status": "completed"
    },
    "tags": []
   },
   "outputs": [],
   "source": [
    "def train_models(X,y):\n",
    "    X_train, X_test, y_train, y_test = train_test_split(X, y, test_size=0.2, stratify = y)\n",
    "    scores = {}\n",
    "    for name, model in models.items():\n",
    "        print(f\"training {name}\")\n",
    "        model.fit(X_train, y_train)\n",
    "        y_pred = model.predict(X_test)\n",
    "        score = roc_auc_score(y_pred, y_test)\n",
    "        print(score)\n",
    "        print(\"=\"*32)\n",
    "        scores[name] = score\n",
    "    \n",
    "    return scores\n",
    "\n",
    "def plot_barplot(scores):\n",
    "    x_keys = list(scores.keys())\n",
    "    y_values = list(scores.values())\n",
    "    ax = sns.barplot(x=x_keys, y = y_values)\n",
    "    for i, v in enumerate(y_values):\n",
    "        ax.text(i, v, str(round(v,3)), ha='center', va='bottom')\n",
    "\n",
    "    plt.show()"
   ]
  },
  {
   "cell_type": "code",
   "execution_count": 6,
   "id": "0c617ed5",
   "metadata": {
    "execution": {
     "iopub.execute_input": "2024-02-01T05:41:42.273693Z",
     "iopub.status.busy": "2024-02-01T05:41:42.272898Z",
     "iopub.status.idle": "2024-02-01T05:41:42.278430Z",
     "shell.execute_reply": "2024-02-01T05:41:42.277633Z"
    },
    "papermill": {
     "duration": 0.023049,
     "end_time": "2024-02-01T05:41:42.280798",
     "exception": false,
     "start_time": "2024-02-01T05:41:42.257749",
     "status": "completed"
    },
    "tags": []
   },
   "outputs": [],
   "source": [
    "final_scores = {\n",
    "    'OrHotNS':\"\",\n",
    "    'OrHotS': \"\",\n",
    "    'OrEnNS': \"\",\n",
    "    'OrEnS': \"\",\n",
    "    'NeHotNS': \"\",\n",
    "    'NeHotS': \"\",\n",
    "    'NeEnNS': \"\",\n",
    "    'NeEnS': \"\",\n",
    "}"
   ]
  },
  {
   "cell_type": "markdown",
   "id": "cd7a34f4",
   "metadata": {
    "papermill": {
     "duration": 0.013671,
     "end_time": "2024-02-01T05:41:42.307955",
     "exception": false,
     "start_time": "2024-02-01T05:41:42.294284",
     "status": "completed"
    },
    "tags": []
   },
   "source": [
    "# Original Features"
   ]
  },
  {
   "cell_type": "markdown",
   "id": "f009d89b",
   "metadata": {
    "papermill": {
     "duration": 0.013511,
     "end_time": "2024-02-01T05:41:42.335067",
     "exception": false,
     "start_time": "2024-02-01T05:41:42.321556",
     "status": "completed"
    },
    "tags": []
   },
   "source": [
    "Let's apply one hot encoder\n",
    "#### OrHotNS"
   ]
  },
  {
   "cell_type": "code",
   "execution_count": 7,
   "id": "826ae2bb",
   "metadata": {
    "execution": {
     "iopub.execute_input": "2024-02-01T05:41:42.364038Z",
     "iopub.status.busy": "2024-02-01T05:41:42.363254Z",
     "iopub.status.idle": "2024-02-01T05:41:42.442403Z",
     "shell.execute_reply": "2024-02-01T05:41:42.441245Z"
    },
    "papermill": {
     "duration": 0.096757,
     "end_time": "2024-02-01T05:41:42.445192",
     "exception": false,
     "start_time": "2024-02-01T05:41:42.348435",
     "status": "completed"
    },
    "tags": []
   },
   "outputs": [],
   "source": [
    "X_one_hot = pd.get_dummies(X, columns=['Geography','Gender'])"
   ]
  },
  {
   "cell_type": "code",
   "execution_count": 8,
   "id": "114db2f8",
   "metadata": {
    "execution": {
     "iopub.execute_input": "2024-02-01T05:41:42.477773Z",
     "iopub.status.busy": "2024-02-01T05:41:42.477327Z",
     "iopub.status.idle": "2024-02-01T05:42:25.847271Z",
     "shell.execute_reply": "2024-02-01T05:42:25.846008Z"
    },
    "papermill": {
     "duration": 43.403911,
     "end_time": "2024-02-01T05:42:25.863456",
     "exception": false,
     "start_time": "2024-02-01T05:41:42.459545",
     "status": "completed"
    },
    "tags": []
   },
   "outputs": [
    {
     "name": "stdout",
     "output_type": "stream",
     "text": [
      "training GBC\n",
      "0.8155644061791933\n",
      "================================\n",
      "training LGBM\n",
      "[LightGBM] [Info] Number of positive: 27937, number of negative: 104090\n",
      "[LightGBM] [Info] Auto-choosing col-wise multi-threading, the overhead of testing was 0.027990 seconds.\n",
      "You can set `force_col_wise=true` to remove the overhead.\n",
      "[LightGBM] [Info] Total Bins 863\n",
      "[LightGBM] [Info] Number of data points in the train set: 132027, number of used features: 13\n",
      "[LightGBM] [Info] [binary:BoostFromScore]: pavg=0.211601 -> initscore=-1.315304\n",
      "[LightGBM] [Info] Start training from score -1.315304\n",
      "0.8158937187889925\n",
      "================================\n",
      "training CatBoost\n",
      "0.8164687069711661\n",
      "================================\n"
     ]
    }
   ],
   "source": [
    "OrHotNS = train_models(X_one_hot, y)"
   ]
  },
  {
   "cell_type": "code",
   "execution_count": 9,
   "id": "1eb00ed8",
   "metadata": {
    "execution": {
     "iopub.execute_input": "2024-02-01T05:42:25.893850Z",
     "iopub.status.busy": "2024-02-01T05:42:25.893469Z",
     "iopub.status.idle": "2024-02-01T05:42:26.101675Z",
     "shell.execute_reply": "2024-02-01T05:42:26.100603Z"
    },
    "papermill": {
     "duration": 0.226872,
     "end_time": "2024-02-01T05:42:26.104152",
     "exception": false,
     "start_time": "2024-02-01T05:42:25.877280",
     "status": "completed"
    },
    "tags": []
   },
   "outputs": [
    {
     "name": "stderr",
     "output_type": "stream",
     "text": [
      "/opt/conda/lib/python3.10/site-packages/seaborn/_oldcore.py:1765: FutureWarning: unique with argument that is not not a Series, Index, ExtensionArray, or np.ndarray is deprecated and will raise in a future version.\n",
      "  order = pd.unique(vector)\n"
     ]
    },
    {
     "data": {
      "image/png": "[encoded data removed]",
      "text/plain": [
       "<Figure size 640x480 with 1 Axes>"
      ]
     },
     "metadata": {},
     "output_type": "display_data"
    }
   ],
   "source": [
    "plot_barplot(OrHotNS)\n",
    "final_scores['OrHotNS'] = OrHotNS"
   ]
  },
  {
   "cell_type": "markdown",
   "id": "3b970a8b",
   "metadata": {
    "papermill": {
     "duration": 0.014174,
     "end_time": "2024-02-01T05:42:26.132865",
     "exception": false,
     "start_time": "2024-02-01T05:42:26.118691",
     "status": "completed"
    },
    "tags": []
   },
   "source": [
    "Now let's apply standard scaler to the features\n",
    "#### OrHotS"
   ]
  },
  {
   "cell_type": "code",
   "execution_count": 10,
   "id": "b8d523dc",
   "metadata": {
    "execution": {
     "iopub.execute_input": "2024-02-01T05:42:26.163094Z",
     "iopub.status.busy": "2024-02-01T05:42:26.162680Z",
     "iopub.status.idle": "2024-02-01T05:43:10.219867Z",
     "shell.execute_reply": "2024-02-01T05:43:10.218538Z"
    },
    "papermill": {
     "duration": 44.086491,
     "end_time": "2024-02-01T05:43:10.233582",
     "exception": false,
     "start_time": "2024-02-01T05:42:26.147091",
     "status": "completed"
    },
    "tags": []
   },
   "outputs": [
    {
     "name": "stdout",
     "output_type": "stream",
     "text": [
      "training GBC\n",
      "0.8202021686469593\n",
      "================================\n",
      "training LGBM\n",
      "[LightGBM] [Info] Number of positive: 27937, number of negative: 104090\n",
      "[LightGBM] [Info] Auto-choosing row-wise multi-threading, the overhead of testing was 0.013678 seconds.\n",
      "You can set `force_row_wise=true` to remove the overhead.\n",
      "And if memory is not enough, you can set `force_col_wise=true`.\n",
      "[LightGBM] [Info] Total Bins 865\n",
      "[LightGBM] [Info] Number of data points in the train set: 132027, number of used features: 13\n",
      "[LightGBM] [Info] [binary:BoostFromScore]: pavg=0.211601 -> initscore=-1.315304\n",
      "[LightGBM] [Info] Start training from score -1.315304\n",
      "0.8177739136385667\n",
      "================================\n",
      "training CatBoost\n",
      "0.8184846732134203\n",
      "================================\n"
     ]
    }
   ],
   "source": [
    "scaler = StandardScaler()\n",
    "X_scaled = X_one_hot.copy()\n",
    "X_scaled[['CreditScore','Age','Tenure','Balance']] = scaler.fit_transform(X_scaled[['CreditScore','Age','Tenure','Balance']])\n",
    "\n",
    "OrHotS = train_models(X_scaled, y)"
   ]
  },
  {
   "cell_type": "code",
   "execution_count": 11,
   "id": "9c00c6c4",
   "metadata": {
    "execution": {
     "iopub.execute_input": "2024-02-01T05:43:10.265256Z",
     "iopub.status.busy": "2024-02-01T05:43:10.264546Z",
     "iopub.status.idle": "2024-02-01T05:43:10.434203Z",
     "shell.execute_reply": "2024-02-01T05:43:10.433084Z"
    },
    "papermill": {
     "duration": 0.189064,
     "end_time": "2024-02-01T05:43:10.437402",
     "exception": false,
     "start_time": "2024-02-01T05:43:10.248338",
     "status": "completed"
    },
    "tags": []
   },
   "outputs": [
    {
     "name": "stderr",
     "output_type": "stream",
     "text": [
      "/opt/conda/lib/python3.10/site-packages/seaborn/_oldcore.py:1765: FutureWarning: unique with argument that is not not a Series, Index, ExtensionArray, or np.ndarray is deprecated and will raise in a future version.\n",
      "  order = pd.unique(vector)\n"
     ]
    },
    {
     "data": {
      "image/png": "[encoded data removed]",
      "text/plain": [
       "<Figure size 640x480 with 1 Axes>"
      ]
     },
     "metadata": {},
     "output_type": "display_data"
    }
   ],
   "source": [
    "plot_barplot(OrHotS)\n",
    "final_scores['OrHotS'] = OrHotS"
   ]
  },
  {
   "cell_type": "markdown",
   "id": "54b4fb35",
   "metadata": {
    "papermill": {
     "duration": 0.015224,
     "end_time": "2024-02-01T05:43:10.468475",
     "exception": false,
     "start_time": "2024-02-01T05:43:10.453251",
     "status": "completed"
    },
    "tags": []
   },
   "source": [
    "### Ordinal Encoder\n",
    "#### OrEnNS"
   ]
  },
  {
   "cell_type": "code",
   "execution_count": 12,
   "id": "6544f79b",
   "metadata": {
    "execution": {
     "iopub.execute_input": "2024-02-01T05:43:10.501226Z",
     "iopub.status.busy": "2024-02-01T05:43:10.500847Z",
     "iopub.status.idle": "2024-02-01T05:43:10.939739Z",
     "shell.execute_reply": "2024-02-01T05:43:10.938647Z"
    },
    "papermill": {
     "duration": 0.458596,
     "end_time": "2024-02-01T05:43:10.942494",
     "exception": false,
     "start_time": "2024-02-01T05:43:10.483898",
     "status": "completed"
    },
    "tags": []
   },
   "outputs": [],
   "source": [
    "encoder = OrdinalEncoder()\n",
    "cols = X.columns.tolist()\n",
    "X_encoder  = encoder.fit_transform(X)\n",
    "X_encoder = pd.DataFrame(X_encoder, columns=cols)\n",
    "X_encoder = X_encoder.astype(int)"
   ]
  },
  {
   "cell_type": "code",
   "execution_count": 13,
   "id": "7c702e45",
   "metadata": {
    "execution": {
     "iopub.execute_input": "2024-02-01T05:43:10.974906Z",
     "iopub.status.busy": "2024-02-01T05:43:10.974488Z",
     "iopub.status.idle": "2024-02-01T05:43:54.089878Z",
     "shell.execute_reply": "2024-02-01T05:43:54.088767Z"
    },
    "papermill": {
     "duration": 43.1528,
     "end_time": "2024-02-01T05:43:54.110686",
     "exception": false,
     "start_time": "2024-02-01T05:43:10.957886",
     "status": "completed"
    },
    "tags": []
   },
   "outputs": [
    {
     "name": "stdout",
     "output_type": "stream",
     "text": [
      "training GBC\n",
      "0.8111819280594504\n",
      "================================\n",
      "training LGBM\n",
      "[LightGBM] [Info] Number of positive: 27937, number of negative: 104090\n",
      "[LightGBM] [Info] Auto-choosing row-wise multi-threading, the overhead of testing was 0.012338 seconds.\n",
      "You can set `force_row_wise=true` to remove the overhead.\n",
      "And if memory is not enough, you can set `force_col_wise=true`.\n",
      "[LightGBM] [Info] Total Bins 856\n",
      "[LightGBM] [Info] Number of data points in the train set: 132027, number of used features: 10\n",
      "[LightGBM] [Info] [binary:BoostFromScore]: pavg=0.211601 -> initscore=-1.315304\n",
      "[LightGBM] [Info] Start training from score -1.315304\n",
      "0.8135221389249894\n",
      "================================\n",
      "training CatBoost\n",
      "0.8140991951214533\n",
      "================================\n"
     ]
    },
    {
     "name": "stderr",
     "output_type": "stream",
     "text": [
      "/opt/conda/lib/python3.10/site-packages/seaborn/_oldcore.py:1765: FutureWarning: unique with argument that is not not a Series, Index, ExtensionArray, or np.ndarray is deprecated and will raise in a future version.\n",
      "  order = pd.unique(vector)\n"
     ]
    },
    {
     "data": {
      "image/png": "[encoded data removed]",
      "text/plain": [
       "<Figure size 640x480 with 1 Axes>"
      ]
     },
     "metadata": {},
     "output_type": "display_data"
    }
   ],
   "source": [
    "OrEnNS = train_models(X_encoder, y)\n",
    "plot_barplot(OrEnNS)\n",
    "final_scores['OrEnNS'] = OrEnNS"
   ]
  },
  {
   "cell_type": "code",
   "execution_count": 14,
   "id": "34685cee",
   "metadata": {
    "execution": {
     "iopub.execute_input": "2024-02-01T05:43:54.145283Z",
     "iopub.status.busy": "2024-02-01T05:43:54.144889Z",
     "iopub.status.idle": "2024-02-01T05:43:54.165986Z",
     "shell.execute_reply": "2024-02-01T05:43:54.164659Z"
    },
    "papermill": {
     "duration": 0.042159,
     "end_time": "2024-02-01T05:43:54.169154",
     "exception": false,
     "start_time": "2024-02-01T05:43:54.126995",
     "status": "completed"
    },
    "tags": []
   },
   "outputs": [
    {
     "data": {
      "text/html": [
       "<div>\n",
       "<style scoped>\n",
       "    .dataframe tbody tr th:only-of-type {\n",
       "        vertical-align: middle;\n",
       "    }\n",
       "\n",
       "    .dataframe tbody tr th {\n",
       "        vertical-align: top;\n",
       "    }\n",
       "\n",
       "    .dataframe thead th {\n",
       "        text-align: right;\n",
       "    }\n",
       "</style>\n",
       "<table border=\"1\" class=\"dataframe\">\n",
       "  <thead>\n",
       "    <tr style=\"text-align: right;\">\n",
       "      <th></th>\n",
       "      <th>CreditScore</th>\n",
       "      <th>Geography</th>\n",
       "      <th>Gender</th>\n",
       "      <th>Age</th>\n",
       "      <th>Tenure</th>\n",
       "      <th>Balance</th>\n",
       "      <th>NumOfProducts</th>\n",
       "      <th>HasCrCard</th>\n",
       "      <th>IsActiveMember</th>\n",
       "      <th>EstimatedSalary</th>\n",
       "    </tr>\n",
       "  </thead>\n",
       "  <tbody>\n",
       "    <tr>\n",
       "      <th>0</th>\n",
       "      <td>274</td>\n",
       "      <td>0</td>\n",
       "      <td>1</td>\n",
       "      <td>15</td>\n",
       "      <td>3</td>\n",
       "      <td>0</td>\n",
       "      <td>1</td>\n",
       "      <td>1</td>\n",
       "      <td>0</td>\n",
       "      <td>52408</td>\n",
       "    </tr>\n",
       "    <tr>\n",
       "      <th>1</th>\n",
       "      <td>233</td>\n",
       "      <td>0</td>\n",
       "      <td>1</td>\n",
       "      <td>15</td>\n",
       "      <td>1</td>\n",
       "      <td>0</td>\n",
       "      <td>1</td>\n",
       "      <td>1</td>\n",
       "      <td>1</td>\n",
       "      <td>5312</td>\n",
       "    </tr>\n",
       "    <tr>\n",
       "      <th>2</th>\n",
       "      <td>284</td>\n",
       "      <td>0</td>\n",
       "      <td>1</td>\n",
       "      <td>22</td>\n",
       "      <td>10</td>\n",
       "      <td>0</td>\n",
       "      <td>1</td>\n",
       "      <td>1</td>\n",
       "      <td>0</td>\n",
       "      <td>53528</td>\n",
       "    </tr>\n",
       "    <tr>\n",
       "      <th>3</th>\n",
       "      <td>187</td>\n",
       "      <td>0</td>\n",
       "      <td>1</td>\n",
       "      <td>16</td>\n",
       "      <td>2</td>\n",
       "      <td>26366</td>\n",
       "      <td>0</td>\n",
       "      <td>1</td>\n",
       "      <td>1</td>\n",
       "      <td>15979</td>\n",
       "    </tr>\n",
       "    <tr>\n",
       "      <th>4</th>\n",
       "      <td>322</td>\n",
       "      <td>2</td>\n",
       "      <td>1</td>\n",
       "      <td>15</td>\n",
       "      <td>5</td>\n",
       "      <td>0</td>\n",
       "      <td>1</td>\n",
       "      <td>1</td>\n",
       "      <td>1</td>\n",
       "      <td>1630</td>\n",
       "    </tr>\n",
       "    <tr>\n",
       "      <th>...</th>\n",
       "      <td>...</td>\n",
       "      <td>...</td>\n",
       "      <td>...</td>\n",
       "      <td>...</td>\n",
       "      <td>...</td>\n",
       "      <td>...</td>\n",
       "      <td>...</td>\n",
       "      <td>...</td>\n",
       "      <td>...</td>\n",
       "      <td>...</td>\n",
       "    </tr>\n",
       "    <tr>\n",
       "      <th>165029</th>\n",
       "      <td>273</td>\n",
       "      <td>2</td>\n",
       "      <td>0</td>\n",
       "      <td>15</td>\n",
       "      <td>2</td>\n",
       "      <td>0</td>\n",
       "      <td>0</td>\n",
       "      <td>1</td>\n",
       "      <td>1</td>\n",
       "      <td>32274</td>\n",
       "    </tr>\n",
       "    <tr>\n",
       "      <th>165030</th>\n",
       "      <td>398</td>\n",
       "      <td>0</td>\n",
       "      <td>1</td>\n",
       "      <td>17</td>\n",
       "      <td>3</td>\n",
       "      <td>0</td>\n",
       "      <td>0</td>\n",
       "      <td>0</td>\n",
       "      <td>0</td>\n",
       "      <td>32272</td>\n",
       "    </tr>\n",
       "    <tr>\n",
       "      <th>165031</th>\n",
       "      <td>171</td>\n",
       "      <td>0</td>\n",
       "      <td>1</td>\n",
       "      <td>13</td>\n",
       "      <td>5</td>\n",
       "      <td>0</td>\n",
       "      <td>0</td>\n",
       "      <td>1</td>\n",
       "      <td>1</td>\n",
       "      <td>30692</td>\n",
       "    </tr>\n",
       "    <tr>\n",
       "      <th>165032</th>\n",
       "      <td>160</td>\n",
       "      <td>2</td>\n",
       "      <td>0</td>\n",
       "      <td>12</td>\n",
       "      <td>7</td>\n",
       "      <td>28444</td>\n",
       "      <td>0</td>\n",
       "      <td>0</td>\n",
       "      <td>1</td>\n",
       "      <td>11575</td>\n",
       "    </tr>\n",
       "    <tr>\n",
       "      <th>165033</th>\n",
       "      <td>456</td>\n",
       "      <td>0</td>\n",
       "      <td>1</td>\n",
       "      <td>13</td>\n",
       "      <td>1</td>\n",
       "      <td>0</td>\n",
       "      <td>0</td>\n",
       "      <td>1</td>\n",
       "      <td>0</td>\n",
       "      <td>8881</td>\n",
       "    </tr>\n",
       "  </tbody>\n",
       "</table>\n",
       "<p>165034 rows × 10 columns</p>\n",
       "</div>"
      ],
      "text/plain": [
       "        CreditScore  Geography  Gender  Age  Tenure  Balance  NumOfProducts  \\\n",
       "0               274          0       1   15       3        0              1   \n",
       "1               233          0       1   15       1        0              1   \n",
       "2               284          0       1   22      10        0              1   \n",
       "3               187          0       1   16       2    26366              0   \n",
       "4               322          2       1   15       5        0              1   \n",
       "...             ...        ...     ...  ...     ...      ...            ...   \n",
       "165029          273          2       0   15       2        0              0   \n",
       "165030          398          0       1   17       3        0              0   \n",
       "165031          171          0       1   13       5        0              0   \n",
       "165032          160          2       0   12       7    28444              0   \n",
       "165033          456          0       1   13       1        0              0   \n",
       "\n",
       "        HasCrCard  IsActiveMember  EstimatedSalary  \n",
       "0               1               0            52408  \n",
       "1               1               1             5312  \n",
       "2               1               0            53528  \n",
       "3               1               1            15979  \n",
       "4               1               1             1630  \n",
       "...           ...             ...              ...  \n",
       "165029          1               1            32274  \n",
       "165030          0               0            32272  \n",
       "165031          1               1            30692  \n",
       "165032          0               1            11575  \n",
       "165033          1               0             8881  \n",
       "\n",
       "[165034 rows x 10 columns]"
      ]
     },
     "execution_count": 14,
     "metadata": {},
     "output_type": "execute_result"
    }
   ],
   "source": [
    "X_encoder"
   ]
  },
  {
   "cell_type": "markdown",
   "id": "dbb20202",
   "metadata": {
    "papermill": {
     "duration": 0.016538,
     "end_time": "2024-02-01T05:43:54.202922",
     "exception": false,
     "start_time": "2024-02-01T05:43:54.186384",
     "status": "completed"
    },
    "tags": []
   },
   "source": [
    "#### OrEnS"
   ]
  },
  {
   "cell_type": "code",
   "execution_count": 15,
   "id": "5be4a1d2",
   "metadata": {
    "execution": {
     "iopub.execute_input": "2024-02-01T05:43:54.239802Z",
     "iopub.status.busy": "2024-02-01T05:43:54.239382Z",
     "iopub.status.idle": "2024-02-01T05:44:36.485483Z",
     "shell.execute_reply": "2024-02-01T05:44:36.484263Z"
    },
    "papermill": {
     "duration": 42.286351,
     "end_time": "2024-02-01T05:44:36.506872",
     "exception": false,
     "start_time": "2024-02-01T05:43:54.220521",
     "status": "completed"
    },
    "tags": []
   },
   "outputs": [
    {
     "name": "stdout",
     "output_type": "stream",
     "text": [
      "training GBC\n",
      "0.8181991332716926\n",
      "================================\n",
      "training LGBM\n",
      "[LightGBM] [Info] Number of positive: 27937, number of negative: 104090\n",
      "[LightGBM] [Info] Auto-choosing row-wise multi-threading, the overhead of testing was 0.013174 seconds.\n",
      "You can set `force_row_wise=true` to remove the overhead.\n",
      "And if memory is not enough, you can set `force_col_wise=true`.\n",
      "[LightGBM] [Info] Total Bins 859\n",
      "[LightGBM] [Info] Number of data points in the train set: 132027, number of used features: 10\n",
      "[LightGBM] [Info] [binary:BoostFromScore]: pavg=0.211601 -> initscore=-1.315304\n",
      "[LightGBM] [Info] Start training from score -1.315304\n",
      "0.8158787756854766\n",
      "================================\n",
      "training CatBoost\n",
      "0.818178785716718\n",
      "================================\n"
     ]
    },
    {
     "name": "stderr",
     "output_type": "stream",
     "text": [
      "/opt/conda/lib/python3.10/site-packages/seaborn/_oldcore.py:1765: FutureWarning: unique with argument that is not not a Series, Index, ExtensionArray, or np.ndarray is deprecated and will raise in a future version.\n",
      "  order = pd.unique(vector)\n"
     ]
    },
    {
     "data": {
      "image/png": "[encoded data removed]",
      "text/plain": [
       "<Figure size 640x480 with 1 Axes>"
      ]
     },
     "metadata": {},
     "output_type": "display_data"
    }
   ],
   "source": [
    "scaler = StandardScaler()\n",
    "X_scaled_encoder = X_encoder.copy()\n",
    "X_scaled_encoder[['CreditScore','Age','Tenure','Balance']] = scaler.fit_transform(X_scaled_encoder[['CreditScore','Age','Tenure','Balance']])\n",
    "\n",
    "OrEnS = train_models(X_scaled_encoder, y)\n",
    "plot_barplot(OrEnS)\n",
    "final_scores['OrEnS'] = OrEnS"
   ]
  },
  {
   "cell_type": "markdown",
   "id": "ec6618e2",
   "metadata": {
    "papermill": {
     "duration": 0.017488,
     "end_time": "2024-02-01T05:44:36.541942",
     "exception": false,
     "start_time": "2024-02-01T05:44:36.524454",
     "status": "completed"
    },
    "tags": []
   },
   "source": [
    "# New Features"
   ]
  },
  {
   "cell_type": "code",
   "execution_count": 16,
   "id": "69070dc6",
   "metadata": {
    "execution": {
     "iopub.execute_input": "2024-02-01T05:44:36.579976Z",
     "iopub.status.busy": "2024-02-01T05:44:36.579235Z",
     "iopub.status.idle": "2024-02-01T05:44:36.597510Z",
     "shell.execute_reply": "2024-02-01T05:44:36.596212Z"
    },
    "papermill": {
     "duration": 0.039935,
     "end_time": "2024-02-01T05:44:36.599963",
     "exception": false,
     "start_time": "2024-02-01T05:44:36.560028",
     "status": "completed"
    },
    "tags": []
   },
   "outputs": [],
   "source": [
    "X_nfeat = X.copy()"
   ]
  },
  {
   "cell_type": "code",
   "execution_count": 17,
   "id": "f1202e34",
   "metadata": {
    "execution": {
     "iopub.execute_input": "2024-02-01T05:44:36.637766Z",
     "iopub.status.busy": "2024-02-01T05:44:36.637038Z",
     "iopub.status.idle": "2024-02-01T05:44:36.649963Z",
     "shell.execute_reply": "2024-02-01T05:44:36.649070Z"
    },
    "papermill": {
     "duration": 0.034531,
     "end_time": "2024-02-01T05:44:36.652457",
     "exception": false,
     "start_time": "2024-02-01T05:44:36.617926",
     "status": "completed"
    },
    "tags": []
   },
   "outputs": [],
   "source": [
    "bins = [18, 25, 45, 60, float('inf')]\n",
    "labels = [\"Y\", \"YA\", \"MA\", \"E\"]\n",
    "X_nfeat['AgeCategory'] = pd.cut(X_nfeat['Age'], bins=bins, labels=labels, right=False)\n"
   ]
  },
  {
   "cell_type": "code",
   "execution_count": 18,
   "id": "b3f0329b",
   "metadata": {
    "execution": {
     "iopub.execute_input": "2024-02-01T05:44:36.755614Z",
     "iopub.status.busy": "2024-02-01T05:44:36.754958Z",
     "iopub.status.idle": "2024-02-01T05:44:36.761017Z",
     "shell.execute_reply": "2024-02-01T05:44:36.760086Z"
    },
    "papermill": {
     "duration": 0.092643,
     "end_time": "2024-02-01T05:44:36.763241",
     "exception": false,
     "start_time": "2024-02-01T05:44:36.670598",
     "status": "completed"
    },
    "tags": []
   },
   "outputs": [],
   "source": [
    "X_nfeat['ActiveByCrCard'] = X_nfeat['HasCrCard'] * X_nfeat['IsActiveMember']"
   ]
  },
  {
   "cell_type": "code",
   "execution_count": 19,
   "id": "f4811cc0",
   "metadata": {
    "execution": {
     "iopub.execute_input": "2024-02-01T05:44:36.802035Z",
     "iopub.status.busy": "2024-02-01T05:44:36.801369Z",
     "iopub.status.idle": "2024-02-01T05:44:36.807313Z",
     "shell.execute_reply": "2024-02-01T05:44:36.806541Z"
    },
    "papermill": {
     "duration": 0.028131,
     "end_time": "2024-02-01T05:44:36.809570",
     "exception": false,
     "start_time": "2024-02-01T05:44:36.781439",
     "status": "completed"
    },
    "tags": []
   },
   "outputs": [],
   "source": [
    "X_nfeat['TenureActive'] = X_nfeat['Tenure'] * X_nfeat['IsActiveMember']"
   ]
  },
  {
   "cell_type": "code",
   "execution_count": 20,
   "id": "54d99a24",
   "metadata": {
    "execution": {
     "iopub.execute_input": "2024-02-01T05:44:36.847882Z",
     "iopub.status.busy": "2024-02-01T05:44:36.847200Z",
     "iopub.status.idle": "2024-02-01T05:44:36.855793Z",
     "shell.execute_reply": "2024-02-01T05:44:36.854928Z"
    },
    "papermill": {
     "duration": 0.030863,
     "end_time": "2024-02-01T05:44:36.858393",
     "exception": false,
     "start_time": "2024-02-01T05:44:36.827530",
     "status": "completed"
    },
    "tags": []
   },
   "outputs": [],
   "source": [
    "X_nfeat['ActiveBalance'] =  np.ones(len(X_nfeat))\n",
    "\n",
    "X_nfeat.loc[(X_nfeat['IsActiveMember']==0) & (X_nfeat['Balance']==0), 'ActiveBalance'] = 0"
   ]
  },
  {
   "cell_type": "code",
   "execution_count": 21,
   "id": "94e86a2d",
   "metadata": {
    "execution": {
     "iopub.execute_input": "2024-02-01T05:44:36.899703Z",
     "iopub.status.busy": "2024-02-01T05:44:36.898992Z",
     "iopub.status.idle": "2024-02-01T05:44:36.921288Z",
     "shell.execute_reply": "2024-02-01T05:44:36.920470Z"
    },
    "papermill": {
     "duration": 0.044036,
     "end_time": "2024-02-01T05:44:36.923441",
     "exception": false,
     "start_time": "2024-02-01T05:44:36.879405",
     "status": "completed"
    },
    "tags": []
   },
   "outputs": [
    {
     "data": {
      "text/html": [
       "<div>\n",
       "<style scoped>\n",
       "    .dataframe tbody tr th:only-of-type {\n",
       "        vertical-align: middle;\n",
       "    }\n",
       "\n",
       "    .dataframe tbody tr th {\n",
       "        vertical-align: top;\n",
       "    }\n",
       "\n",
       "    .dataframe thead th {\n",
       "        text-align: right;\n",
       "    }\n",
       "</style>\n",
       "<table border=\"1\" class=\"dataframe\">\n",
       "  <thead>\n",
       "    <tr style=\"text-align: right;\">\n",
       "      <th></th>\n",
       "      <th>CreditScore</th>\n",
       "      <th>Geography</th>\n",
       "      <th>Gender</th>\n",
       "      <th>Age</th>\n",
       "      <th>Tenure</th>\n",
       "      <th>Balance</th>\n",
       "      <th>NumOfProducts</th>\n",
       "      <th>HasCrCard</th>\n",
       "      <th>IsActiveMember</th>\n",
       "      <th>EstimatedSalary</th>\n",
       "      <th>AgeCategory</th>\n",
       "      <th>ActiveByCrCard</th>\n",
       "      <th>TenureActive</th>\n",
       "      <th>ActiveBalance</th>\n",
       "    </tr>\n",
       "  </thead>\n",
       "  <tbody>\n",
       "    <tr>\n",
       "      <th>0</th>\n",
       "      <td>668</td>\n",
       "      <td>France</td>\n",
       "      <td>Male</td>\n",
       "      <td>33</td>\n",
       "      <td>3</td>\n",
       "      <td>0.00</td>\n",
       "      <td>2</td>\n",
       "      <td>1</td>\n",
       "      <td>0</td>\n",
       "      <td>181449.97</td>\n",
       "      <td>YA</td>\n",
       "      <td>0</td>\n",
       "      <td>0</td>\n",
       "      <td>0.0</td>\n",
       "    </tr>\n",
       "    <tr>\n",
       "      <th>1</th>\n",
       "      <td>627</td>\n",
       "      <td>France</td>\n",
       "      <td>Male</td>\n",
       "      <td>33</td>\n",
       "      <td>1</td>\n",
       "      <td>0.00</td>\n",
       "      <td>2</td>\n",
       "      <td>1</td>\n",
       "      <td>1</td>\n",
       "      <td>49503.50</td>\n",
       "      <td>YA</td>\n",
       "      <td>1</td>\n",
       "      <td>1</td>\n",
       "      <td>1.0</td>\n",
       "    </tr>\n",
       "    <tr>\n",
       "      <th>2</th>\n",
       "      <td>678</td>\n",
       "      <td>France</td>\n",
       "      <td>Male</td>\n",
       "      <td>40</td>\n",
       "      <td>10</td>\n",
       "      <td>0.00</td>\n",
       "      <td>2</td>\n",
       "      <td>1</td>\n",
       "      <td>0</td>\n",
       "      <td>184866.69</td>\n",
       "      <td>YA</td>\n",
       "      <td>0</td>\n",
       "      <td>0</td>\n",
       "      <td>0.0</td>\n",
       "    </tr>\n",
       "    <tr>\n",
       "      <th>3</th>\n",
       "      <td>581</td>\n",
       "      <td>France</td>\n",
       "      <td>Male</td>\n",
       "      <td>34</td>\n",
       "      <td>2</td>\n",
       "      <td>148882.54</td>\n",
       "      <td>1</td>\n",
       "      <td>1</td>\n",
       "      <td>1</td>\n",
       "      <td>84560.88</td>\n",
       "      <td>YA</td>\n",
       "      <td>1</td>\n",
       "      <td>2</td>\n",
       "      <td>1.0</td>\n",
       "    </tr>\n",
       "    <tr>\n",
       "      <th>4</th>\n",
       "      <td>716</td>\n",
       "      <td>Spain</td>\n",
       "      <td>Male</td>\n",
       "      <td>33</td>\n",
       "      <td>5</td>\n",
       "      <td>0.00</td>\n",
       "      <td>2</td>\n",
       "      <td>1</td>\n",
       "      <td>1</td>\n",
       "      <td>15068.83</td>\n",
       "      <td>YA</td>\n",
       "      <td>1</td>\n",
       "      <td>5</td>\n",
       "      <td>1.0</td>\n",
       "    </tr>\n",
       "    <tr>\n",
       "      <th>...</th>\n",
       "      <td>...</td>\n",
       "      <td>...</td>\n",
       "      <td>...</td>\n",
       "      <td>...</td>\n",
       "      <td>...</td>\n",
       "      <td>...</td>\n",
       "      <td>...</td>\n",
       "      <td>...</td>\n",
       "      <td>...</td>\n",
       "      <td>...</td>\n",
       "      <td>...</td>\n",
       "      <td>...</td>\n",
       "      <td>...</td>\n",
       "      <td>...</td>\n",
       "    </tr>\n",
       "    <tr>\n",
       "      <th>165029</th>\n",
       "      <td>667</td>\n",
       "      <td>Spain</td>\n",
       "      <td>Female</td>\n",
       "      <td>33</td>\n",
       "      <td>2</td>\n",
       "      <td>0.00</td>\n",
       "      <td>1</td>\n",
       "      <td>1</td>\n",
       "      <td>1</td>\n",
       "      <td>131834.75</td>\n",
       "      <td>YA</td>\n",
       "      <td>1</td>\n",
       "      <td>2</td>\n",
       "      <td>1.0</td>\n",
       "    </tr>\n",
       "    <tr>\n",
       "      <th>165030</th>\n",
       "      <td>792</td>\n",
       "      <td>France</td>\n",
       "      <td>Male</td>\n",
       "      <td>35</td>\n",
       "      <td>3</td>\n",
       "      <td>0.00</td>\n",
       "      <td>1</td>\n",
       "      <td>0</td>\n",
       "      <td>0</td>\n",
       "      <td>131834.45</td>\n",
       "      <td>YA</td>\n",
       "      <td>0</td>\n",
       "      <td>0</td>\n",
       "      <td>0.0</td>\n",
       "    </tr>\n",
       "    <tr>\n",
       "      <th>165031</th>\n",
       "      <td>565</td>\n",
       "      <td>France</td>\n",
       "      <td>Male</td>\n",
       "      <td>31</td>\n",
       "      <td>5</td>\n",
       "      <td>0.00</td>\n",
       "      <td>1</td>\n",
       "      <td>1</td>\n",
       "      <td>1</td>\n",
       "      <td>127429.56</td>\n",
       "      <td>YA</td>\n",
       "      <td>1</td>\n",
       "      <td>5</td>\n",
       "      <td>1.0</td>\n",
       "    </tr>\n",
       "    <tr>\n",
       "      <th>165032</th>\n",
       "      <td>554</td>\n",
       "      <td>Spain</td>\n",
       "      <td>Female</td>\n",
       "      <td>30</td>\n",
       "      <td>7</td>\n",
       "      <td>161533.00</td>\n",
       "      <td>1</td>\n",
       "      <td>0</td>\n",
       "      <td>1</td>\n",
       "      <td>71173.03</td>\n",
       "      <td>YA</td>\n",
       "      <td>0</td>\n",
       "      <td>7</td>\n",
       "      <td>1.0</td>\n",
       "    </tr>\n",
       "    <tr>\n",
       "      <th>165033</th>\n",
       "      <td>850</td>\n",
       "      <td>France</td>\n",
       "      <td>Male</td>\n",
       "      <td>31</td>\n",
       "      <td>1</td>\n",
       "      <td>0.00</td>\n",
       "      <td>1</td>\n",
       "      <td>1</td>\n",
       "      <td>0</td>\n",
       "      <td>61581.79</td>\n",
       "      <td>YA</td>\n",
       "      <td>0</td>\n",
       "      <td>0</td>\n",
       "      <td>0.0</td>\n",
       "    </tr>\n",
       "  </tbody>\n",
       "</table>\n",
       "<p>165034 rows × 14 columns</p>\n",
       "</div>"
      ],
      "text/plain": [
       "        CreditScore Geography  Gender  Age  Tenure    Balance  NumOfProducts  \\\n",
       "0               668    France    Male   33       3       0.00              2   \n",
       "1               627    France    Male   33       1       0.00              2   \n",
       "2               678    France    Male   40      10       0.00              2   \n",
       "3               581    France    Male   34       2  148882.54              1   \n",
       "4               716     Spain    Male   33       5       0.00              2   \n",
       "...             ...       ...     ...  ...     ...        ...            ...   \n",
       "165029          667     Spain  Female   33       2       0.00              1   \n",
       "165030          792    France    Male   35       3       0.00              1   \n",
       "165031          565    France    Male   31       5       0.00              1   \n",
       "165032          554     Spain  Female   30       7  161533.00              1   \n",
       "165033          850    France    Male   31       1       0.00              1   \n",
       "\n",
       "        HasCrCard  IsActiveMember  EstimatedSalary AgeCategory  \\\n",
       "0               1               0        181449.97          YA   \n",
       "1               1               1         49503.50          YA   \n",
       "2               1               0        184866.69          YA   \n",
       "3               1               1         84560.88          YA   \n",
       "4               1               1         15068.83          YA   \n",
       "...           ...             ...              ...         ...   \n",
       "165029          1               1        131834.75          YA   \n",
       "165030          0               0        131834.45          YA   \n",
       "165031          1               1        127429.56          YA   \n",
       "165032          0               1         71173.03          YA   \n",
       "165033          1               0         61581.79          YA   \n",
       "\n",
       "        ActiveByCrCard  TenureActive  ActiveBalance  \n",
       "0                    0             0            0.0  \n",
       "1                    1             1            1.0  \n",
       "2                    0             0            0.0  \n",
       "3                    1             2            1.0  \n",
       "4                    1             5            1.0  \n",
       "...                ...           ...            ...  \n",
       "165029               1             2            1.0  \n",
       "165030               0             0            0.0  \n",
       "165031               1             5            1.0  \n",
       "165032               0             7            1.0  \n",
       "165033               0             0            0.0  \n",
       "\n",
       "[165034 rows x 14 columns]"
      ]
     },
     "execution_count": 21,
     "metadata": {},
     "output_type": "execute_result"
    }
   ],
   "source": [
    "X_nfeat"
   ]
  },
  {
   "cell_type": "markdown",
   "id": "0d4ee739",
   "metadata": {
    "papermill": {
     "duration": 0.018141,
     "end_time": "2024-02-01T05:44:36.960436",
     "exception": false,
     "start_time": "2024-02-01T05:44:36.942295",
     "status": "completed"
    },
    "tags": []
   },
   "source": [
    "#### NeHotNs"
   ]
  },
  {
   "cell_type": "code",
   "execution_count": 22,
   "id": "2a71ac61",
   "metadata": {
    "execution": {
     "iopub.execute_input": "2024-02-01T05:44:36.999913Z",
     "iopub.status.busy": "2024-02-01T05:44:36.999200Z",
     "iopub.status.idle": "2024-02-01T05:45:25.781167Z",
     "shell.execute_reply": "2024-02-01T05:45:25.779855Z"
    },
    "papermill": {
     "duration": 48.820009,
     "end_time": "2024-02-01T05:45:25.798934",
     "exception": false,
     "start_time": "2024-02-01T05:44:36.978925",
     "status": "completed"
    },
    "tags": []
   },
   "outputs": [
    {
     "name": "stdout",
     "output_type": "stream",
     "text": [
      "training GBC\n",
      "0.8170695540246374\n",
      "================================\n",
      "training LGBM\n",
      "[LightGBM] [Info] Number of positive: 27937, number of negative: 104090\n",
      "[LightGBM] [Info] Auto-choosing row-wise multi-threading, the overhead of testing was 0.020433 seconds.\n",
      "You can set `force_row_wise=true` to remove the overhead.\n",
      "And if memory is not enough, you can set `force_col_wise=true`.\n",
      "[LightGBM] [Info] Total Bins 885\n",
      "[LightGBM] [Info] Number of data points in the train set: 132027, number of used features: 20\n",
      "[LightGBM] [Info] [binary:BoostFromScore]: pavg=0.211601 -> initscore=-1.315304\n",
      "[LightGBM] [Info] Start training from score -1.315304\n",
      "0.814370972316111\n",
      "================================\n",
      "training CatBoost\n",
      "0.8153633504554585\n",
      "================================\n"
     ]
    },
    {
     "name": "stderr",
     "output_type": "stream",
     "text": [
      "/opt/conda/lib/python3.10/site-packages/seaborn/_oldcore.py:1765: FutureWarning: unique with argument that is not not a Series, Index, ExtensionArray, or np.ndarray is deprecated and will raise in a future version.\n",
      "  order = pd.unique(vector)\n"
     ]
    },
    {
     "data": {
      "image/png": "[encoded data removed]",
      "text/plain": [
       "<Figure size 640x480 with 1 Axes>"
      ]
     },
     "metadata": {},
     "output_type": "display_data"
    }
   ],
   "source": [
    "X_nf_one_hot = pd.get_dummies(X_nfeat, columns=['Geography','Gender','AgeCategory'])\n",
    "NeHotNs = train_models(X_nf_one_hot, y)\n",
    "plot_barplot(NeHotNs)\n",
    "final_scores['NeHotNS'] = NeHotNs"
   ]
  },
  {
   "cell_type": "markdown",
   "id": "162c7cf3",
   "metadata": {
    "papermill": {
     "duration": 0.019191,
     "end_time": "2024-02-01T05:45:25.837747",
     "exception": false,
     "start_time": "2024-02-01T05:45:25.818556",
     "status": "completed"
    },
    "tags": []
   },
   "source": [
    "#### NeHotS"
   ]
  },
  {
   "cell_type": "code",
   "execution_count": 23,
   "id": "e75fdb46",
   "metadata": {
    "execution": {
     "iopub.execute_input": "2024-02-01T05:45:25.878882Z",
     "iopub.status.busy": "2024-02-01T05:45:25.878079Z",
     "iopub.status.idle": "2024-02-01T05:45:25.904412Z",
     "shell.execute_reply": "2024-02-01T05:45:25.903118Z"
    },
    "papermill": {
     "duration": 0.050057,
     "end_time": "2024-02-01T05:45:25.907116",
     "exception": false,
     "start_time": "2024-02-01T05:45:25.857059",
     "status": "completed"
    },
    "tags": []
   },
   "outputs": [],
   "source": [
    "scaler = StandardScaler()\n",
    "X_scaled = X_nf_one_hot.copy()\n",
    "X_scaled[['CreditScore','Age','Tenure','Balance']] = scaler.fit_transform(X_scaled[['CreditScore','Age','Tenure','Balance']])\n"
   ]
  },
  {
   "cell_type": "code",
   "execution_count": 24,
   "id": "27647ab5",
   "metadata": {
    "execution": {
     "iopub.execute_input": "2024-02-01T05:45:25.948170Z",
     "iopub.status.busy": "2024-02-01T05:45:25.947786Z",
     "iopub.status.idle": "2024-02-01T05:46:14.986119Z",
     "shell.execute_reply": "2024-02-01T05:46:14.984950Z"
    },
    "papermill": {
     "duration": 49.073991,
     "end_time": "2024-02-01T05:46:15.000428",
     "exception": false,
     "start_time": "2024-02-01T05:45:25.926437",
     "status": "completed"
    },
    "tags": []
   },
   "outputs": [
    {
     "name": "stdout",
     "output_type": "stream",
     "text": [
      "training GBC\n",
      "0.8154178022234437\n",
      "================================\n",
      "training LGBM\n",
      "[LightGBM] [Info] Number of positive: 27937, number of negative: 104090\n",
      "[LightGBM] [Info] Auto-choosing row-wise multi-threading, the overhead of testing was 0.020567 seconds.\n",
      "You can set `force_row_wise=true` to remove the overhead.\n",
      "And if memory is not enough, you can set `force_col_wise=true`.\n",
      "[LightGBM] [Info] Total Bins 887\n",
      "[LightGBM] [Info] Number of data points in the train set: 132027, number of used features: 20\n",
      "[LightGBM] [Info] [binary:BoostFromScore]: pavg=0.211601 -> initscore=-1.315304\n",
      "[LightGBM] [Info] Start training from score -1.315304\n",
      "0.8131361412592809\n",
      "================================\n",
      "training CatBoost\n",
      "0.815282286580745\n",
      "================================\n"
     ]
    },
    {
     "name": "stderr",
     "output_type": "stream",
     "text": [
      "/opt/conda/lib/python3.10/site-packages/seaborn/_oldcore.py:1765: FutureWarning: unique with argument that is not not a Series, Index, ExtensionArray, or np.ndarray is deprecated and will raise in a future version.\n",
      "  order = pd.unique(vector)\n"
     ]
    },
    {
     "data": {
      "image/png": "[encoded data removed]",
      "text/plain": [
       "<Figure size 640x480 with 1 Axes>"
      ]
     },
     "metadata": {},
     "output_type": "display_data"
    }
   ],
   "source": [
    "NeHotS = train_models(X_scaled, y)\n",
    "plot_barplot(NeHotS)\n",
    "final_scores['NeHotS'] = NeHotS"
   ]
  },
  {
   "cell_type": "markdown",
   "id": "0699fba3",
   "metadata": {
    "papermill": {
     "duration": 0.020077,
     "end_time": "2024-02-01T05:46:15.040889",
     "exception": false,
     "start_time": "2024-02-01T05:46:15.020812",
     "status": "completed"
    },
    "tags": []
   },
   "source": [
    "#### NeEnNS"
   ]
  },
  {
   "cell_type": "code",
   "execution_count": 25,
   "id": "c38ca336",
   "metadata": {
    "execution": {
     "iopub.execute_input": "2024-02-01T05:46:15.083258Z",
     "iopub.status.busy": "2024-02-01T05:46:15.082862Z",
     "iopub.status.idle": "2024-02-01T05:46:15.647026Z",
     "shell.execute_reply": "2024-02-01T05:46:15.645970Z"
    },
    "papermill": {
     "duration": 0.588741,
     "end_time": "2024-02-01T05:46:15.649836",
     "exception": false,
     "start_time": "2024-02-01T05:46:15.061095",
     "status": "completed"
    },
    "tags": []
   },
   "outputs": [],
   "source": [
    "encoder = OrdinalEncoder()\n",
    "cols = X_nfeat.columns.tolist()\n",
    "X_encoder  = encoder.fit_transform(X_nfeat)\n",
    "X_encoder = pd.DataFrame(X_encoder, columns=cols)\n",
    "X_encoder = X_encoder.astype(int)"
   ]
  },
  {
   "cell_type": "code",
   "execution_count": 26,
   "id": "0f1c1304",
   "metadata": {
    "execution": {
     "iopub.execute_input": "2024-02-01T05:46:15.693083Z",
     "iopub.status.busy": "2024-02-01T05:46:15.692632Z",
     "iopub.status.idle": "2024-02-01T05:47:03.781189Z",
     "shell.execute_reply": "2024-02-01T05:47:03.780037Z"
    },
    "papermill": {
     "duration": 48.135141,
     "end_time": "2024-02-01T05:47:03.805760",
     "exception": false,
     "start_time": "2024-02-01T05:46:15.670619",
     "status": "completed"
    },
    "tags": []
   },
   "outputs": [
    {
     "name": "stdout",
     "output_type": "stream",
     "text": [
      "training GBC\n",
      "0.8128906117033797\n",
      "================================\n",
      "training LGBM\n",
      "[LightGBM] [Info] Number of positive: 27937, number of negative: 104090\n",
      "[LightGBM] [Info] Auto-choosing row-wise multi-threading, the overhead of testing was 0.014700 seconds.\n",
      "You can set `force_row_wise=true` to remove the overhead.\n",
      "And if memory is not enough, you can set `force_col_wise=true`.\n",
      "[LightGBM] [Info] Total Bins 875\n",
      "[LightGBM] [Info] Number of data points in the train set: 132027, number of used features: 14\n",
      "[LightGBM] [Info] [binary:BoostFromScore]: pavg=0.211601 -> initscore=-1.315304\n",
      "[LightGBM] [Info] Start training from score -1.315304\n",
      "0.8097039330210426\n",
      "================================\n",
      "training CatBoost\n",
      "0.8121583027173267\n",
      "================================\n"
     ]
    },
    {
     "name": "stderr",
     "output_type": "stream",
     "text": [
      "/opt/conda/lib/python3.10/site-packages/seaborn/_oldcore.py:1765: FutureWarning: unique with argument that is not not a Series, Index, ExtensionArray, or np.ndarray is deprecated and will raise in a future version.\n",
      "  order = pd.unique(vector)\n"
     ]
    },
    {
     "data": {
      "image/png": "[encoded data removed]",
      "text/plain": [
       "<Figure size 640x480 with 1 Axes>"
      ]
     },
     "metadata": {},
     "output_type": "display_data"
    }
   ],
   "source": [
    "NeEnNS = train_models(X_encoder, y)\n",
    "plot_barplot(NeEnNS)\n",
    "final_scores['NeEnNS'] = NeEnNS"
   ]
  },
  {
   "cell_type": "markdown",
   "id": "a85457eb",
   "metadata": {
    "papermill": {
     "duration": 0.022892,
     "end_time": "2024-02-01T05:47:03.851392",
     "exception": false,
     "start_time": "2024-02-01T05:47:03.828500",
     "status": "completed"
    },
    "tags": []
   },
   "source": [
    "#### NeEnS"
   ]
  },
  {
   "cell_type": "code",
   "execution_count": 27,
   "id": "420e570a",
   "metadata": {
    "execution": {
     "iopub.execute_input": "2024-02-01T05:47:03.896703Z",
     "iopub.status.busy": "2024-02-01T05:47:03.895976Z",
     "iopub.status.idle": "2024-02-01T05:47:49.837670Z",
     "shell.execute_reply": "2024-02-01T05:47:49.836573Z"
    },
    "papermill": {
     "duration": 45.989756,
     "end_time": "2024-02-01T05:47:49.862599",
     "exception": false,
     "start_time": "2024-02-01T05:47:03.872843",
     "status": "completed"
    },
    "tags": []
   },
   "outputs": [
    {
     "name": "stdout",
     "output_type": "stream",
     "text": [
      "training GBC\n",
      "0.8210001486590999\n",
      "================================\n",
      "training LGBM\n",
      "[LightGBM] [Info] Number of positive: 27937, number of negative: 104090\n",
      "[LightGBM] [Info] Auto-choosing row-wise multi-threading, the overhead of testing was 0.015228 seconds.\n",
      "You can set `force_row_wise=true` to remove the overhead.\n",
      "And if memory is not enough, you can set `force_col_wise=true`.\n",
      "[LightGBM] [Info] Total Bins 877\n",
      "[LightGBM] [Info] Number of data points in the train set: 132027, number of used features: 14\n",
      "[LightGBM] [Info] [binary:BoostFromScore]: pavg=0.211601 -> initscore=-1.315304\n",
      "[LightGBM] [Info] Start training from score -1.315304\n",
      "0.8171740734791182\n",
      "================================\n",
      "training CatBoost\n",
      "0.8197618136122293\n",
      "================================\n"
     ]
    },
    {
     "name": "stderr",
     "output_type": "stream",
     "text": [
      "/opt/conda/lib/python3.10/site-packages/seaborn/_oldcore.py:1765: FutureWarning: unique with argument that is not not a Series, Index, ExtensionArray, or np.ndarray is deprecated and will raise in a future version.\n",
      "  order = pd.unique(vector)\n"
     ]
    },
    {
     "data": {
      "image/png": "[encoded data removed]",
      "text/plain": [
       "<Figure size 640x480 with 1 Axes>"
      ]
     },
     "metadata": {},
     "output_type": "display_data"
    }
   ],
   "source": [
    "scaler = StandardScaler()\n",
    "X_scaled_encoder = X_encoder.copy()\n",
    "X_scaled_encoder[['CreditScore','Age','Tenure','Balance']] = scaler.fit_transform(X_scaled_encoder[['CreditScore','Age','Tenure','Balance']])\n",
    "\n",
    "NeEnS = train_models(X_scaled_encoder, y)\n",
    "plot_barplot(NeEnS)\n",
    "final_scores['NeEnS'] = NeEnS"
   ]
  },
  {
   "cell_type": "markdown",
   "id": "2adfbf47",
   "metadata": {
    "papermill": {
     "duration": 0.0217,
     "end_time": "2024-02-01T05:47:49.906442",
     "exception": false,
     "start_time": "2024-02-01T05:47:49.884742",
     "status": "completed"
    },
    "tags": []
   },
   "source": [
    "---"
   ]
  },
  {
   "cell_type": "code",
   "execution_count": 28,
   "id": "08bf0c8a",
   "metadata": {
    "_kg_hide-input": true,
    "execution": {
     "iopub.execute_input": "2024-02-01T05:47:49.953743Z",
     "iopub.status.busy": "2024-02-01T05:47:49.953334Z",
     "iopub.status.idle": "2024-02-01T05:47:49.961180Z",
     "shell.execute_reply": "2024-02-01T05:47:49.960038Z"
    },
    "papermill": {
     "duration": 0.03476,
     "end_time": "2024-02-01T05:47:49.963561",
     "exception": false,
     "start_time": "2024-02-01T05:47:49.928801",
     "status": "completed"
    },
    "tags": []
   },
   "outputs": [
    {
     "data": {
      "text/plain": [
       "{'OrHotNS': {'GBC': 0.8155644061791933,\n",
       "  'LGBM': 0.8158937187889925,\n",
       "  'CatBoost': 0.8164687069711661},\n",
       " 'OrHotS': {'GBC': 0.8202021686469593,\n",
       "  'LGBM': 0.8177739136385667,\n",
       "  'CatBoost': 0.8184846732134203},\n",
       " 'OrEnNS': {'GBC': 0.8111819280594504,\n",
       "  'LGBM': 0.8135221389249894,\n",
       "  'CatBoost': 0.8140991951214533},\n",
       " 'OrEnS': {'GBC': 0.8181991332716926,\n",
       "  'LGBM': 0.8158787756854766,\n",
       "  'CatBoost': 0.818178785716718},\n",
       " 'NeHotNS': {'GBC': 0.8170695540246374,\n",
       "  'LGBM': 0.814370972316111,\n",
       "  'CatBoost': 0.8153633504554585},\n",
       " 'NeHotS': {'GBC': 0.8154178022234437,\n",
       "  'LGBM': 0.8131361412592809,\n",
       "  'CatBoost': 0.815282286580745},\n",
       " 'NeEnNS': {'GBC': 0.8128906117033797,\n",
       "  'LGBM': 0.8097039330210426,\n",
       "  'CatBoost': 0.8121583027173267},\n",
       " 'NeEnS': {'GBC': 0.8210001486590999,\n",
       "  'LGBM': 0.8171740734791182,\n",
       "  'CatBoost': 0.8197618136122293}}"
      ]
     },
     "execution_count": 28,
     "metadata": {},
     "output_type": "execute_result"
    }
   ],
   "source": [
    "final_scores"
   ]
  },
  {
   "cell_type": "code",
   "execution_count": 29,
   "id": "b6033804",
   "metadata": {
    "execution": {
     "iopub.execute_input": "2024-02-01T05:47:50.012555Z",
     "iopub.status.busy": "2024-02-01T05:47:50.012098Z",
     "iopub.status.idle": "2024-02-01T05:47:50.028847Z",
     "shell.execute_reply": "2024-02-01T05:47:50.027685Z"
    },
    "papermill": {
     "duration": 0.044668,
     "end_time": "2024-02-01T05:47:50.031251",
     "exception": false,
     "start_time": "2024-02-01T05:47:49.986583",
     "status": "completed"
    },
    "tags": []
   },
   "outputs": [
    {
     "data": {
      "text/html": [
       "<div>\n",
       "<style scoped>\n",
       "    .dataframe tbody tr th:only-of-type {\n",
       "        vertical-align: middle;\n",
       "    }\n",
       "\n",
       "    .dataframe tbody tr th {\n",
       "        vertical-align: top;\n",
       "    }\n",
       "\n",
       "    .dataframe thead th {\n",
       "        text-align: right;\n",
       "    }\n",
       "</style>\n",
       "<table border=\"1\" class=\"dataframe\">\n",
       "  <thead>\n",
       "    <tr style=\"text-align: right;\">\n",
       "      <th></th>\n",
       "      <th>OrHotNS</th>\n",
       "      <th>OrHotS</th>\n",
       "      <th>OrEnNS</th>\n",
       "      <th>OrEnS</th>\n",
       "      <th>NeHotNS</th>\n",
       "      <th>NeHotS</th>\n",
       "      <th>NeEnNS</th>\n",
       "      <th>NeEnS</th>\n",
       "    </tr>\n",
       "  </thead>\n",
       "  <tbody>\n",
       "    <tr>\n",
       "      <th>GBC</th>\n",
       "      <td>0.815564</td>\n",
       "      <td>0.820202</td>\n",
       "      <td>0.811182</td>\n",
       "      <td>0.818199</td>\n",
       "      <td>0.817070</td>\n",
       "      <td>0.815418</td>\n",
       "      <td>0.812891</td>\n",
       "      <td>0.821000</td>\n",
       "    </tr>\n",
       "    <tr>\n",
       "      <th>LGBM</th>\n",
       "      <td>0.815894</td>\n",
       "      <td>0.817774</td>\n",
       "      <td>0.813522</td>\n",
       "      <td>0.815879</td>\n",
       "      <td>0.814371</td>\n",
       "      <td>0.813136</td>\n",
       "      <td>0.809704</td>\n",
       "      <td>0.817174</td>\n",
       "    </tr>\n",
       "    <tr>\n",
       "      <th>CatBoost</th>\n",
       "      <td>0.816469</td>\n",
       "      <td>0.818485</td>\n",
       "      <td>0.814099</td>\n",
       "      <td>0.818179</td>\n",
       "      <td>0.815363</td>\n",
       "      <td>0.815282</td>\n",
       "      <td>0.812158</td>\n",
       "      <td>0.819762</td>\n",
       "    </tr>\n",
       "  </tbody>\n",
       "</table>\n",
       "</div>"
      ],
      "text/plain": [
       "           OrHotNS    OrHotS    OrEnNS     OrEnS   NeHotNS    NeHotS  \\\n",
       "GBC       0.815564  0.820202  0.811182  0.818199  0.817070  0.815418   \n",
       "LGBM      0.815894  0.817774  0.813522  0.815879  0.814371  0.813136   \n",
       "CatBoost  0.816469  0.818485  0.814099  0.818179  0.815363  0.815282   \n",
       "\n",
       "            NeEnNS     NeEnS  \n",
       "GBC       0.812891  0.821000  \n",
       "LGBM      0.809704  0.817174  \n",
       "CatBoost  0.812158  0.819762  "
      ]
     },
     "execution_count": 29,
     "metadata": {},
     "output_type": "execute_result"
    }
   ],
   "source": [
    "scores = pd.DataFrame(final_scores)\n",
    "scores"
   ]
  },
  {
   "cell_type": "code",
   "execution_count": 30,
   "id": "3fa39e11",
   "metadata": {
    "execution": {
     "iopub.execute_input": "2024-02-01T05:47:50.079479Z",
     "iopub.status.busy": "2024-02-01T05:47:50.079038Z",
     "iopub.status.idle": "2024-02-01T05:47:50.451396Z",
     "shell.execute_reply": "2024-02-01T05:47:50.450370Z"
    },
    "papermill": {
     "duration": 0.400294,
     "end_time": "2024-02-01T05:47:50.454355",
     "exception": false,
     "start_time": "2024-02-01T05:47:50.054061",
     "status": "completed"
    },
    "tags": []
   },
   "outputs": [
    {
     "data": {
      "image/png": "[encoded data removed]",
      "text/plain": [
       "<Figure size 640x480 with 2 Axes>"
      ]
     },
     "metadata": {},
     "output_type": "display_data"
    }
   ],
   "source": [
    "sns.heatmap(scores.T, annot=True, cmap=\"YlGnBu\", fmt=\".4f\", cbar_kws={'label': 'Performance'})\n",
    "plt.title('Model Performance Matrix')\n",
    "plt.show()"
   ]
  },
  {
   "cell_type": "code",
   "execution_count": 31,
   "id": "018e9569",
   "metadata": {
    "execution": {
     "iopub.execute_input": "2024-02-01T05:47:50.503769Z",
     "iopub.status.busy": "2024-02-01T05:47:50.503373Z",
     "iopub.status.idle": "2024-02-01T05:47:50.511117Z",
     "shell.execute_reply": "2024-02-01T05:47:50.509596Z"
    },
    "papermill": {
     "duration": 0.035577,
     "end_time": "2024-02-01T05:47:50.513774",
     "exception": false,
     "start_time": "2024-02-01T05:47:50.478197",
     "status": "completed"
    },
    "tags": []
   },
   "outputs": [],
   "source": [
    "scoresT = scores.T\n",
    "mean_values = scoresT.mean(axis=1)\n",
    "\n",
    "mean_values_models = scores.mean(axis=1)"
   ]
  },
  {
   "cell_type": "code",
   "execution_count": 32,
   "id": "2f4fbc09",
   "metadata": {
    "execution": {
     "iopub.execute_input": "2024-02-01T05:47:50.563293Z",
     "iopub.status.busy": "2024-02-01T05:47:50.562888Z",
     "iopub.status.idle": "2024-02-01T05:47:50.826388Z",
     "shell.execute_reply": "2024-02-01T05:47:50.825215Z"
    },
    "papermill": {
     "duration": 0.29131,
     "end_time": "2024-02-01T05:47:50.829155",
     "exception": false,
     "start_time": "2024-02-01T05:47:50.537845",
     "status": "completed"
    },
    "tags": []
   },
   "outputs": [
    {
     "data": {
      "image/png": "[encoded data removed]",
      "text/plain": [
       "<Figure size 640x480 with 1 Axes>"
      ]
     },
     "metadata": {},
     "output_type": "display_data"
    }
   ],
   "source": [
    "ax = sns.barplot(x=mean_values.index, y = mean_values.values)\n",
    "for i, value in enumerate(mean_values.values):\n",
    "    ax.text(i, value, f'{value:.4f}', ha='center', va='bottom')\n",
    "plt.title('Model Performance Matrix')\n",
    "plt.ylim(0.8, 0.83)\n",
    "plt.show()"
   ]
  },
  {
   "cell_type": "code",
   "execution_count": 33,
   "id": "fc8762f5",
   "metadata": {
    "execution": {
     "iopub.execute_input": "2024-02-01T05:47:50.879453Z",
     "iopub.status.busy": "2024-02-01T05:47:50.879071Z",
     "iopub.status.idle": "2024-02-01T05:47:51.077922Z",
     "shell.execute_reply": "2024-02-01T05:47:51.076807Z"
    },
    "papermill": {
     "duration": 0.227452,
     "end_time": "2024-02-01T05:47:51.080746",
     "exception": false,
     "start_time": "2024-02-01T05:47:50.853294",
     "status": "completed"
    },
    "tags": []
   },
   "outputs": [
    {
     "data": {
      "image/png": "[encoded data removed]",
      "text/plain": [
       "<Figure size 640x480 with 1 Axes>"
      ]
     },
     "metadata": {},
     "output_type": "display_data"
    }
   ],
   "source": [
    "ax = sns.barplot(x=mean_values_models.index, y = mean_values_models.values)\n",
    "for i, value in enumerate(mean_values_models.values):\n",
    "    ax.text(i, value, f'{value:.4f}', ha='center', va='bottom')\n",
    "plt.title('Model Performance Matrix')\n",
    "plt.ylim(0.8, 0.83)\n",
    "plt.show()"
   ]
  },
  {
   "cell_type": "markdown",
   "id": "2666a57b",
   "metadata": {
    "papermill": {
     "duration": 0.024699,
     "end_time": "2024-02-01T05:47:51.131634",
     "exception": false,
     "start_time": "2024-02-01T05:47:51.106935",
     "status": "completed"
    },
    "tags": []
   },
   "source": [
    "Now we can see the performance with different preprocessing and with different models.\n",
    "Notice that the scale of the barplot start in 0.8, that's because if we start in 0 the difference it is not so visual. \n",
    "\n",
    "In general the performance is the same but we get more accuracy with the model GBC, just using the original features, applying ordinal encoder and scaling the data.\n",
    "\n",
    "What other thing do you thing that are interesting about this? I read you in comments 😃\n",
    "\n",
    "@CarlosAlvro"
   ]
  }
 ],
 "metadata": {
  "kaggle": {
   "accelerator": "none",
   "dataSources": [
    {
     "databundleVersionId": 7405009,
     "sourceId": 65711,
     "sourceType": "competition"
    }
   ],
   "dockerImageVersionId": 30646,
   "isGpuEnabled": false,
   "isInternetEnabled": true,
   "language": "python",
   "sourceType": "notebook"
  },
  "kernelspec": {
   "display_name": "Python 3",
   "language": "python",
   "name": "python3"
  },
  "language_info": {
   "codemirror_mode": {
    "name": "ipython",
    "version": 3
   },
   "file_extension": ".py",
   "mimetype": "text/x-python",
   "name": "python",
   "nbconvert_exporter": "python",
   "pygments_lexer": "ipython3",
   "version": "3.10.13"
  },
  "papermill": {
   "default_parameters": {},
   "duration": 378.934026,
   "end_time": "2024-02-01T05:47:52.080903",
   "environment_variables": {},
   "exception": null,
   "input_path": "__notebook__.ipynb",
   "output_path": "__notebook__.ipynb",
   "parameters": {},
   "start_time": "2024-02-01T05:41:33.146877",
   "version": "2.5.0"
  }
 },
 "nbformat": 4,
 "nbformat_minor": 5
}
